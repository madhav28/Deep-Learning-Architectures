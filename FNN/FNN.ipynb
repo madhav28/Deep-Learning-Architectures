{
 "cells": [
  {
   "cell_type": "code",
   "execution_count": null,
   "id": "451b00a0-f6fb-495e-b2b6-c08440411122",
   "metadata": {},
   "outputs": [],
   "source": []
  }
 ],
 "metadata": {
  "kernelspec": {
   "display_name": "",
   "name": ""
  },
  "language_info": {
   "name": ""
  }
 },
 "nbformat": 4,
 "nbformat_minor": 5
}
