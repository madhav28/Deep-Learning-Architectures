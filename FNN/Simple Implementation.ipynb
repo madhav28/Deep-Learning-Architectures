{
 "cells": [
  {
   "cell_type": "code",
   "execution_count": 12,
   "id": "212c8423-fa7b-4faa-9ae9-d2b1f5dab5cd",
   "metadata": {},
   "outputs": [],
   "source": [
    "import torch\n",
    "import torch.nn as nn\n",
    "import torch.optim as optim\n",
    "from torch.utils.data import TensorDataset, DataLoader"
   ]
  },
  {
   "cell_type": "code",
   "execution_count": 16,
   "id": "6a146129-ac83-4795-aa58-bb87bc7bdfba",
   "metadata": {},
   "outputs": [
    {
     "name": "stdout",
     "output_type": "stream",
     "text": [
      "Epoch [1/10], Loss: 0.07422112673521042\n",
      "Epoch [2/10], Loss: 0.06376244872808456\n",
      "Epoch [3/10], Loss: 0.06265438348054886\n",
      "Epoch [4/10], Loss: 0.05763455480337143\n",
      "Epoch [5/10], Loss: 0.05443049594759941\n",
      "Epoch [6/10], Loss: 0.05157538503408432\n",
      "Epoch [7/10], Loss: 0.05112648010253906\n",
      "Epoch [8/10], Loss: 0.05408830568194389\n",
      "Epoch [9/10], Loss: 0.045543547719717026\n",
      "Epoch [10/10], Loss: 0.04970189183950424\n"
     ]
    }
   ],
   "source": [
    "class FNN(nn.Module):\n",
    "    def __init__(self, input_dim=16, hidden_dim=8, output_dim=2):\n",
    "        super().__init__()\n",
    "        self.model = nn.Sequential(\n",
    "            nn.Linear(input_dim, hidden_dim),\n",
    "            nn.ReLU(),\n",
    "            nn.Linear(hidden_dim, output_dim)\n",
    "        )\n",
    "\n",
    "    def forward(self, x):\n",
    "        return self.model(x)\n",
    "\n",
    "N = 100\n",
    "X = torch.randn(N, 16)\n",
    "y = torch.randn(N, 2)\n",
    "dataset = TensorDataset(X, y)\n",
    "dataloader = DataLoader(dataset, batch_size=16, shuffle=True)\n",
    "\n",
    "model = FNN()\n",
    "criterion = nn.MSELoss()\n",
    "optimizer = optim.Adam(model.parameters(), lr=0.01)\n",
    "\n",
    "num_epochs = 10\n",
    "for epoch in range(num_epochs):\n",
    "    running_loss = 0\n",
    "    for X, y in dataloader:\n",
    "        optimizer.zero_grad()\n",
    "        y_pred = model(X)\n",
    "        loss = criterion(y_pred, y)\n",
    "        running_loss += loss\n",
    "        loss.backward()\n",
    "        optimizer.step()\n",
    "    print(f'Epoch [{epoch+1}/{num_epochs}], Loss: {running_loss/len(dataset)}')"
   ]
  }
 ],
 "metadata": {
  "kernelspec": {
   "display_name": "Python 3 (ipykernel)",
   "language": "python",
   "name": "python3"
  },
  "language_info": {
   "codemirror_mode": {
    "name": "ipython",
    "version": 3
   },
   "file_extension": ".py",
   "mimetype": "text/x-python",
   "name": "python",
   "nbconvert_exporter": "python",
   "pygments_lexer": "ipython3",
   "version": "3.12.4"
  }
 },
 "nbformat": 4,
 "nbformat_minor": 5
}
